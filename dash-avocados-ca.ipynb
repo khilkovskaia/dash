{
 "cells": [
  {
   "cell_type": "code",
   "execution_count": null,
   "metadata": {},
   "outputs": [
    {
     "name": "stdout",
     "output_type": "stream",
     "text": [
      " * Serving Flask app \"dash\" (lazy loading)\n",
      " * Environment: production\n",
      "   WARNING: This is a development server. Do not use it in a production deployment.\n",
      "   Use a production WSGI server instead.\n",
      " * Debug mode: off\n"
     ]
    },
    {
     "name": "stderr",
     "output_type": "stream",
     "text": [
      " * Running on http://127.0.0.1:8050/ (Press CTRL+C to quit)\n",
      "127.0.0.1 - - [19/Apr/2020 18:59:40] \"\u001b[37mGET / HTTP/1.1\u001b[0m\" 200 -\n",
      "127.0.0.1 - - [19/Apr/2020 18:59:41] \"\u001b[37mGET /_dash-dependencies HTTP/1.1\u001b[0m\" 200 -\n",
      "127.0.0.1 - - [19/Apr/2020 18:59:41] \"\u001b[37mGET /_dash-layout HTTP/1.1\u001b[0m\" 200 -\n",
      "127.0.0.1 - - [19/Apr/2020 18:59:41] \"\u001b[37mGET /favicon.ico HTTP/1.1\u001b[0m\" 200 -\n"
     ]
    }
   ],
   "source": [
    "import dash\n",
    "import dash_core_components as dcc\n",
    "import dash_html_components as html\n",
    "from dash.dependencies import Input, Output\n",
    "\n",
    "import pandas as pd\n",
    "import plotly.graph_objs as go\n",
    "\n",
    "# Use a css file from your GitHub Pages site \n",
    "external_stylesheets = ['https://raw.githubusercontent.com/khilkovskaia/dash/master/bootstrap.min.css']\n",
    "\n",
    "# Launch the application\n",
    "app = dash.Dash()\n",
    "\n",
    "# Import the dataset\n",
    "df = pd.read_csv('https://raw.githubusercontent.com/khilkovskaia/dash/master/avocado-ca.csv')\n",
    "filepath = 'https://raw.githubusercontent.com/khilkovskaia/dash/master/avocado-ca.csv'\n",
    "st = pd.read_csv(filepath)\n",
    "\n",
    "\n",
    "# Plotly figure\n",
    "trace_1 = go.Scatter(x = st.Date, y = st['AveragePrice'],\n",
    "                    name = 'Average Price',\n",
    "                    line = dict(width = 2,\n",
    "                                color = 'rgb(5, 125, 71)'))\n",
    "layout = go.Layout(title = 'Time Series Plot',\n",
    "                   hovermode = 'closest')\n",
    "fig = go.Figure(data = [trace_1], layout = layout)\n",
    "\n",
    "\n",
    "# Dash layout\n",
    "app.layout = html.Div([ \n",
    "                # a header and a paragraph\n",
    "                html.Div([\n",
    "                    html.H1(\"Dash Assignment for ISM 6419\"),\n",
    "                    html.P(\"Avocado Prices Data in California\")\n",
    "                        ],\n",
    "                     style = {'padding' : '50px' ,\n",
    "                              'backgroundColor' : '#057d47',\n",
    "                              'textAlign' : 'center'}),\n",
    "                # adding a plot\n",
    "                dcc.Graph(id = 'plot', figure = fig),\n",
    "])\n",
    "\n",
    "# Server clause\n",
    "if __name__ == '__main__':\n",
    "    app.run_server(debug = False)\n",
    "\n",
    "    \n",
    "\n",
    "\n"
   ]
  },
  {
   "cell_type": "code",
   "execution_count": null,
   "metadata": {},
   "outputs": [],
   "source": []
  },
  {
   "cell_type": "code",
   "execution_count": null,
   "metadata": {},
   "outputs": [],
   "source": []
  },
  {
   "cell_type": "code",
   "execution_count": null,
   "metadata": {},
   "outputs": [],
   "source": []
  }
 ],
 "metadata": {
  "kernelspec": {
   "display_name": "Python 3",
   "language": "python",
   "name": "python3"
  },
  "language_info": {
   "codemirror_mode": {
    "name": "ipython",
    "version": 3
   },
   "file_extension": ".py",
   "mimetype": "text/x-python",
   "name": "python",
   "nbconvert_exporter": "python",
   "pygments_lexer": "ipython3",
   "version": "3.7.6"
  }
 },
 "nbformat": 4,
 "nbformat_minor": 4
}
